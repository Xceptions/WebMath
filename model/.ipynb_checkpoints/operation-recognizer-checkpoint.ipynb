{
 "cells": [
  {
   "cell_type": "code",
   "execution_count": 1,
   "metadata": {},
   "outputs": [
    {
     "name": "stderr",
     "output_type": "stream",
     "text": [
      "Using TensorFlow backend.\n"
     ]
    }
   ],
   "source": [
    "import numpy as np\n",
    "import pandas as pd\n",
    "from sklearn.model_selection import train_test_split\n",
    "import tensorflow as tf\n",
    "from keras.models import Sequential\n",
    "from keras.layers import Dense, Dropout, Flatten, Conv2D, MaxPool2D\n",
    "from keras.optimizers import Adam\n",
    "from keras.preprocessing.image import ImageDataGenerator\n",
    "from keras.callbacks import ReduceLROnPlateau\n",
    "\n",
    "import matplotlib.pyplot as plt\n",
    "%matplotlib inline"
   ]
  },
  {
   "cell_type": "code",
   "execution_count": 2,
   "metadata": {},
   "outputs": [],
   "source": [
    "DEV_RUN = True"
   ]
  },
  {
   "cell_type": "code",
   "execution_count": 3,
   "metadata": {},
   "outputs": [],
   "source": [
    "data = pd.read_csv('./math_symbols.csv')\n",
    "data_x = data[[col for col in data.columns if not col == \"target\"]]\n",
    "data_y = data['target']"
   ]
  },
  {
   "cell_type": "code",
   "execution_count": 4,
   "metadata": {},
   "outputs": [],
   "source": [
    "train_x, test_x, train_y, test_y = train_test_split(data_x, data_y, random_state=27, test_size=0.2, stratify=data_y)"
   ]
  },
  {
   "cell_type": "code",
   "execution_count": 5,
   "metadata": {},
   "outputs": [
    {
     "data": {
      "text/plain": [
       "0      0\n",
       "92     2\n",
       "116    2\n",
       "20     0\n",
       "80     3\n",
       "103    2\n",
       "33     1\n",
       "101    2\n",
       "27     0\n",
       "88     3\n",
       "Name: target, dtype: int64"
      ]
     },
     "execution_count": 5,
     "metadata": {},
     "output_type": "execute_result"
    }
   ],
   "source": [
    "map_symbol = {\"+\": 0, \"-\": 1, \"*\": 2, \"/\": 3}\n",
    "train_y = train_y.map(map_symbol)\n",
    "train_y.sample(10)"
   ]
  },
  {
   "cell_type": "code",
   "execution_count": 6,
   "metadata": {},
   "outputs": [
    {
     "data": {
      "text/plain": [
       "90    2\n",
       "74    3\n",
       "66    3\n",
       "92    2\n",
       "46    1\n",
       "Name: target, dtype: int64"
      ]
     },
     "execution_count": 6,
     "metadata": {},
     "output_type": "execute_result"
    }
   ],
   "source": [
    "train_y.head()"
   ]
  },
  {
   "cell_type": "code",
   "execution_count": 7,
   "metadata": {},
   "outputs": [],
   "source": [
    "train_x = train_x.values.reshape(-1, 28, 28, 1)"
   ]
  },
  {
   "cell_type": "code",
   "execution_count": 8,
   "metadata": {},
   "outputs": [],
   "source": [
    "train_y = tf.keras.utils.to_categorical(train_y, num_classes=4)"
   ]
  },
  {
   "cell_type": "code",
   "execution_count": 9,
   "metadata": {},
   "outputs": [],
   "source": [
    "if DEV_RUN:\n",
    "    filter1 = 8\n",
    "    filter2 = 8\n",
    "    layer1 = 64\n",
    "    epochs = 50\n",
    "    batch_size = 200\n",
    "else:\n",
    "    filter1 = 32\n",
    "    filter2 = 64\n",
    "    layer1 = 256\n",
    "    epochs = 40\n",
    "    batch_size = 200"
   ]
  },
  {
   "cell_type": "code",
   "execution_count": 10,
   "metadata": {},
   "outputs": [
    {
     "name": "stdout",
     "output_type": "stream",
     "text": [
      "WARNING:tensorflow:From C:\\Users\\Snapnet-User\\Anaconda3\\envs\\tensorflow_gpuenv\\lib\\site-packages\\keras\\backend\\tensorflow_backend.py:4070: The name tf.nn.max_pool is deprecated. Please use tf.nn.max_pool2d instead.\n",
      "\n"
     ]
    }
   ],
   "source": [
    "model = Sequential()\n",
    "model.add(Conv2D(filters=filter1, kernel_size=(5,5), padding='Same', activation='relu', input_shape=(28,28,1)))\n",
    "model.add(MaxPool2D(pool_size=(2,2)))\n",
    "model.add(Dropout(0.2))\n",
    "model.add(Conv2D(filters=filter2, kernel_size=(3,3), padding='Same', activation='relu', input_shape=(28,28,1)))\n",
    "model.add(MaxPool2D(pool_size=(2,2), strides=(2,2)))\n",
    "model.add(Dropout(0.2))\n",
    "model.add(Flatten())\n",
    "model.add(Dense(layer1, activation='relu'))\n",
    "model.add(Dropout(0.2))\n",
    "model.add(Dense(4, activation='softmax'))"
   ]
  },
  {
   "cell_type": "code",
   "execution_count": 11,
   "metadata": {},
   "outputs": [],
   "source": [
    "# Define the optimizer\n",
    "optimizer = Adam(lr=0.001)\n",
    "\n",
    "# Compile the model\n",
    "model.compile(optimizer=optimizer, loss='categorical_crossentropy', metrics=['accuracy'])\n",
    "\n",
    "# Set a learning rate annealer\n",
    "learning_rate_reduction = ReduceLROnPlateau(monitor='val_acc', patience=3, verbose=1, factor=0.5, min_lr=0.00001)"
   ]
  },
  {
   "cell_type": "code",
   "execution_count": 12,
   "metadata": {},
   "outputs": [
    {
     "name": "stdout",
     "output_type": "stream",
     "text": [
      "WARNING:tensorflow:From C:\\Users\\Snapnet-User\\Anaconda3\\envs\\tensorflow_gpuenv\\lib\\site-packages\\keras\\backend\\tensorflow_backend.py:422: The name tf.global_variables is deprecated. Please use tf.compat.v1.global_variables instead.\n",
      "\n",
      "Train on 67 samples, validate on 29 samples\n",
      "Epoch 1/50\n",
      "67/67 [==============================] - 1s 10ms/step - loss: 1.5021 - accuracy: 0.1194 - val_loss: 1.3773 - val_accuracy: 0.2414\n",
      "Epoch 2/50\n",
      "67/67 [==============================] - 0s 672us/step - loss: 1.3468 - accuracy: 0.3433 - val_loss: 1.2864 - val_accuracy: 0.3103\n",
      "Epoch 3/50\n",
      "67/67 [==============================] - 0s 851us/step - loss: 1.3296 - accuracy: 0.3134 - val_loss: 1.2050 - val_accuracy: 0.5517\n",
      "Epoch 4/50\n",
      "67/67 [==============================] - 0s 1ms/step - loss: 1.2396 - accuracy: 0.3881 - val_loss: 1.1312 - val_accuracy: 0.6897\n",
      "Epoch 5/50\n",
      "67/67 [==============================] - 0s 866us/step - loss: 1.1688 - accuracy: 0.5075 - val_loss: 1.0662 - val_accuracy: 0.8621\n",
      "Epoch 6/50\n",
      "67/67 [==============================] - 0s 1ms/step - loss: 1.0513 - accuracy: 0.6567 - val_loss: 0.9968 - val_accuracy: 0.8966\n",
      "Epoch 7/50\n",
      "67/67 [==============================] - 0s 1ms/step - loss: 1.0255 - accuracy: 0.6866 - val_loss: 0.9264 - val_accuracy: 0.9310\n",
      "Epoch 8/50\n",
      "67/67 [==============================] - 0s 1ms/step - loss: 0.9345 - accuracy: 0.7164 - val_loss: 0.8547 - val_accuracy: 0.9655\n",
      "Epoch 9/50\n",
      "67/67 [==============================] - 0s 881us/step - loss: 0.8887 - accuracy: 0.7910 - val_loss: 0.7790 - val_accuracy: 1.0000\n",
      "Epoch 10/50\n",
      "67/67 [==============================] - 0s 851us/step - loss: 0.8152 - accuracy: 0.8060 - val_loss: 0.6993 - val_accuracy: 1.0000\n",
      "Epoch 11/50\n",
      "67/67 [==============================] - 0s 910us/step - loss: 0.7100 - accuracy: 0.8657 - val_loss: 0.6169 - val_accuracy: 1.0000\n",
      "Epoch 12/50\n",
      "67/67 [==============================] - 0s 836us/step - loss: 0.6582 - accuracy: 0.8806 - val_loss: 0.5351 - val_accuracy: 1.0000\n",
      "Epoch 13/50\n",
      "67/67 [==============================] - 0s 940us/step - loss: 0.5844 - accuracy: 0.9104 - val_loss: 0.4568 - val_accuracy: 1.0000\n",
      "Epoch 14/50\n",
      "67/67 [==============================] - 0s 1ms/step - loss: 0.4996 - accuracy: 0.9701 - val_loss: 0.3840 - val_accuracy: 1.0000\n",
      "Epoch 15/50\n",
      "67/67 [==============================] - 0s 2ms/step - loss: 0.4117 - accuracy: 0.9701 - val_loss: 0.3190 - val_accuracy: 1.0000\n",
      "Epoch 16/50\n",
      "67/67 [==============================] - 0s 627us/step - loss: 0.3926 - accuracy: 0.9403 - val_loss: 0.2612 - val_accuracy: 1.0000\n",
      "Epoch 17/50\n",
      "67/67 [==============================] - 0s 1ms/step - loss: 0.3705 - accuracy: 0.9254 - val_loss: 0.2115 - val_accuracy: 1.0000\n",
      "Epoch 18/50\n",
      "67/67 [==============================] - 0s 1ms/step - loss: 0.2727 - accuracy: 0.9851 - val_loss: 0.1696 - val_accuracy: 1.0000\n",
      "Epoch 19/50\n",
      "67/67 [==============================] - 0s 881us/step - loss: 0.2081 - accuracy: 0.9701 - val_loss: 0.1355 - val_accuracy: 1.0000\n",
      "Epoch 20/50\n",
      "67/67 [==============================] - 0s 1ms/step - loss: 0.2137 - accuracy: 0.9552 - val_loss: 0.1073 - val_accuracy: 1.0000\n",
      "Epoch 21/50\n",
      "67/67 [==============================] - 0s 1ms/step - loss: 0.1815 - accuracy: 0.9403 - val_loss: 0.0841 - val_accuracy: 1.0000\n",
      "Epoch 22/50\n",
      "67/67 [==============================] - 0s 910us/step - loss: 0.1522 - accuracy: 0.9701 - val_loss: 0.0649 - val_accuracy: 1.0000\n",
      "Epoch 23/50\n",
      "67/67 [==============================] - 0s 1ms/step - loss: 0.1312 - accuracy: 0.9851 - val_loss: 0.0489 - val_accuracy: 1.0000\n",
      "Epoch 24/50\n",
      "67/67 [==============================] - 0s 1ms/step - loss: 0.1187 - accuracy: 0.9851 - val_loss: 0.0373 - val_accuracy: 1.0000\n",
      "Epoch 25/50\n",
      "67/67 [==============================] - 0s 1ms/step - loss: 0.1030 - accuracy: 0.9851 - val_loss: 0.0293 - val_accuracy: 1.0000\n",
      "Epoch 26/50\n",
      "67/67 [==============================] - 0s 1ms/step - loss: 0.0858 - accuracy: 0.9701 - val_loss: 0.0239 - val_accuracy: 1.0000\n",
      "Epoch 27/50\n",
      "67/67 [==============================] - 0s 940us/step - loss: 0.0598 - accuracy: 0.9851 - val_loss: 0.0199 - val_accuracy: 1.0000\n",
      "Epoch 28/50\n",
      "67/67 [==============================] - 0s 1ms/step - loss: 0.0836 - accuracy: 0.9552 - val_loss: 0.0169 - val_accuracy: 1.0000\n",
      "Epoch 29/50\n",
      "67/67 [==============================] - 0s 1ms/step - loss: 0.0839 - accuracy: 0.9701 - val_loss: 0.0143 - val_accuracy: 1.0000\n",
      "Epoch 30/50\n",
      "67/67 [==============================] - 0s 1ms/step - loss: 0.0888 - accuracy: 0.9851 - val_loss: 0.0122 - val_accuracy: 1.0000\n",
      "Epoch 31/50\n",
      "67/67 [==============================] - 0s 657us/step - loss: 0.0517 - accuracy: 0.9851 - val_loss: 0.0105 - val_accuracy: 1.0000\n",
      "Epoch 32/50\n",
      "67/67 [==============================] - 0s 1ms/step - loss: 0.0676 - accuracy: 0.9851 - val_loss: 0.0093 - val_accuracy: 1.0000\n",
      "Epoch 33/50\n",
      "67/67 [==============================] - 0s 1ms/step - loss: 0.0647 - accuracy: 0.9851 - val_loss: 0.0086 - val_accuracy: 1.0000\n",
      "Epoch 34/50\n",
      "67/67 [==============================] - 0s 1ms/step - loss: 0.0355 - accuracy: 1.0000 - val_loss: 0.0076 - val_accuracy: 1.0000\n",
      "Epoch 35/50\n",
      "67/67 [==============================] - 0s 1ms/step - loss: 0.0322 - accuracy: 1.0000 - val_loss: 0.0065 - val_accuracy: 1.0000\n",
      "Epoch 36/50\n",
      "67/67 [==============================] - 0s 612us/step - loss: 0.0913 - accuracy: 0.9851 - val_loss: 0.0053 - val_accuracy: 1.0000\n",
      "Epoch 37/50\n",
      "67/67 [==============================] - 0s 1ms/step - loss: 0.0540 - accuracy: 0.9701 - val_loss: 0.0045 - val_accuracy: 1.0000\n",
      "Epoch 38/50\n",
      "67/67 [==============================] - 0s 970us/step - loss: 0.0518 - accuracy: 0.9701 - val_loss: 0.0042 - val_accuracy: 1.0000\n",
      "Epoch 39/50\n",
      "67/67 [==============================] - 0s 1ms/step - loss: 0.0320 - accuracy: 0.9851 - val_loss: 0.0039 - val_accuracy: 1.0000\n",
      "Epoch 40/50\n",
      "67/67 [==============================] - 0s 597us/step - loss: 0.0559 - accuracy: 0.9851 - val_loss: 0.0032 - val_accuracy: 1.0000\n",
      "Epoch 41/50\n",
      "67/67 [==============================] - 0s 806us/step - loss: 0.0109 - accuracy: 1.0000 - val_loss: 0.0027 - val_accuracy: 1.0000\n",
      "Epoch 42/50\n",
      "67/67 [==============================] - 0s 985us/step - loss: 0.0166 - accuracy: 1.0000 - val_loss: 0.0022 - val_accuracy: 1.0000\n",
      "Epoch 43/50\n",
      "67/67 [==============================] - 0s 1ms/step - loss: 0.0152 - accuracy: 1.0000 - val_loss: 0.0019 - val_accuracy: 1.0000\n",
      "Epoch 44/50\n",
      "67/67 [==============================] - 0s 1ms/step - loss: 0.0104 - accuracy: 1.0000 - val_loss: 0.0015 - val_accuracy: 1.0000\n",
      "Epoch 45/50\n",
      "67/67 [==============================] - 0s 731us/step - loss: 0.0128 - accuracy: 1.0000 - val_loss: 0.0013 - val_accuracy: 1.0000\n",
      "Epoch 46/50\n",
      "67/67 [==============================] - 0s 657us/step - loss: 0.0091 - accuracy: 1.0000 - val_loss: 0.0011 - val_accuracy: 1.0000\n",
      "Epoch 47/50\n",
      "67/67 [==============================] - 0s 895us/step - loss: 0.0216 - accuracy: 0.9851 - val_loss: 8.5678e-04 - val_accuracy: 1.0000\n",
      "Epoch 48/50\n",
      "67/67 [==============================] - 0s 1ms/step - loss: 0.0081 - accuracy: 1.0000 - val_loss: 7.0718e-04 - val_accuracy: 1.0000\n",
      "Epoch 49/50\n",
      "67/67 [==============================] - 0s 1ms/step - loss: 0.0087 - accuracy: 1.0000 - val_loss: 6.1272e-04 - val_accuracy: 1.0000\n",
      "Epoch 50/50\n",
      "67/67 [==============================] - 0s 1ms/step - loss: 0.0563 - accuracy: 0.9701 - val_loss: 5.7376e-04 - val_accuracy: 1.0000\n"
     ]
    }
   ],
   "source": [
    "# train the model (no data augmentation)\n",
    "history = model.fit(train_x, train_y, batch_size=batch_size,\n",
    "                    epochs=epochs, validation_split=0.3, verbose=1)"
   ]
  },
  {
   "cell_type": "code",
   "execution_count": 13,
   "metadata": {},
   "outputs": [
    {
     "data": {
      "text/plain": [
       "<matplotlib.legend.Legend at 0x2cca4f090c8>"
      ]
     },
     "execution_count": 13,
     "metadata": {},
     "output_type": "execute_result"
    },
    {
     "data": {
      "image/png": "[encoded data removed]",
      "text/plain": [
       "<Figure size 432x288 with 1 Axes>"
      ]
     },
     "metadata": {
      "needs_background": "light"
     },
     "output_type": "display_data"
    }
   ],
   "source": [
    "# plot the accuracy curves for training and validation\n",
    "plt.plot(history.history['accuracy'])\n",
    "plt.plot(history.history['val_accuracy'])\n",
    "plt.title('model accuracy')\n",
    "plt.ylabel('accuracy')\n",
    "plt.xlabel('epoch')\n",
    "plt.legend(['train', 'test'], loc='upper left')"
   ]
  },
  {
   "cell_type": "code",
   "execution_count": 14,
   "metadata": {},
   "outputs": [
    {
     "data": {
      "text/plain": [
       "<matplotlib.legend.Legend at 0x2cca4fe2d08>"
      ]
     },
     "execution_count": 14,
     "metadata": {},
     "output_type": "execute_result"
    },
    {
     "data": {
      "image/png": "[encoded data removed]",
      "text/plain": [
       "<Figure size 432x288 with 1 Axes>"
      ]
     },
     "metadata": {
      "needs_background": "light"
     },
     "output_type": "display_data"
    }
   ],
   "source": [
    "# plot the loss curves for training and validation\n",
    "plt.plot(history.history['loss'])\n",
    "plt.plot(history.history['val_loss'])\n",
    "plt.title('model loss')\n",
    "plt.ylabel('loss')\n",
    "plt.xlabel('epoch')\n",
    "plt.legend(['train', 'test'], loc='upper left')"
   ]
  },
  {
   "cell_type": "code",
   "execution_count": 15,
   "metadata": {},
   "outputs": [],
   "source": [
    "test_x = test_x.values.reshape(-1, 28, 28, 1)\n",
    "\n",
    "val_pred = model.predict(test_x)\n",
    "val_pred = np.argmax(val_pred, axis=1)"
   ]
  },
  {
   "cell_type": "code",
   "execution_count": 16,
   "metadata": {},
   "outputs": [],
   "source": [
    "inv_map_symbol = {v: k for k, v in map_symbol.items()}"
   ]
  },
  {
   "cell_type": "code",
   "execution_count": 17,
   "metadata": {},
   "outputs": [],
   "source": [
    "val_pred_vec = np.vectorize(inv_map_symbol.get)(val_pred)"
   ]
  },
  {
   "cell_type": "code",
   "execution_count": 18,
   "metadata": {},
   "outputs": [],
   "source": [
    "test_y = pd.DataFrame(test_y)\n",
    "test_y['preds'] = val_pred_vec"
   ]
  },
  {
   "cell_type": "code",
   "execution_count": 19,
   "metadata": {},
   "outputs": [
    {
     "data": {
      "text/html": [
       "<div>\n",
       "<style scoped>\n",
       "    .dataframe tbody tr th:only-of-type {\n",
       "        vertical-align: middle;\n",
       "    }\n",
       "\n",
       "    .dataframe tbody tr th {\n",
       "        vertical-align: top;\n",
       "    }\n",
       "\n",
       "    .dataframe thead th {\n",
       "        text-align: right;\n",
       "    }\n",
       "</style>\n",
       "<table border=\"1\" class=\"dataframe\">\n",
       "  <thead>\n",
       "    <tr style=\"text-align: right;\">\n",
       "      <th></th>\n",
       "      <th>target</th>\n",
       "      <th>preds</th>\n",
       "    </tr>\n",
       "  </thead>\n",
       "  <tbody>\n",
       "    <tr>\n",
       "      <td>55</td>\n",
       "      <td>-</td>\n",
       "      <td>-</td>\n",
       "    </tr>\n",
       "    <tr>\n",
       "      <td>98</td>\n",
       "      <td>*</td>\n",
       "      <td>*</td>\n",
       "    </tr>\n",
       "    <tr>\n",
       "      <td>8</td>\n",
       "      <td>+</td>\n",
       "      <td>+</td>\n",
       "    </tr>\n",
       "    <tr>\n",
       "      <td>76</td>\n",
       "      <td>/</td>\n",
       "      <td>/</td>\n",
       "    </tr>\n",
       "    <tr>\n",
       "      <td>62</td>\n",
       "      <td>/</td>\n",
       "      <td>/</td>\n",
       "    </tr>\n",
       "    <tr>\n",
       "      <td>58</td>\n",
       "      <td>-</td>\n",
       "      <td>/</td>\n",
       "    </tr>\n",
       "    <tr>\n",
       "      <td>7</td>\n",
       "      <td>+</td>\n",
       "      <td>+</td>\n",
       "    </tr>\n",
       "    <tr>\n",
       "      <td>89</td>\n",
       "      <td>/</td>\n",
       "      <td>/</td>\n",
       "    </tr>\n",
       "    <tr>\n",
       "      <td>118</td>\n",
       "      <td>*</td>\n",
       "      <td>*</td>\n",
       "    </tr>\n",
       "    <tr>\n",
       "      <td>114</td>\n",
       "      <td>*</td>\n",
       "      <td>*</td>\n",
       "    </tr>\n",
       "    <tr>\n",
       "      <td>30</td>\n",
       "      <td>-</td>\n",
       "      <td>-</td>\n",
       "    </tr>\n",
       "    <tr>\n",
       "      <td>37</td>\n",
       "      <td>-</td>\n",
       "      <td>-</td>\n",
       "    </tr>\n",
       "    <tr>\n",
       "      <td>2</td>\n",
       "      <td>+</td>\n",
       "      <td>+</td>\n",
       "    </tr>\n",
       "    <tr>\n",
       "      <td>32</td>\n",
       "      <td>-</td>\n",
       "      <td>-</td>\n",
       "    </tr>\n",
       "    <tr>\n",
       "      <td>69</td>\n",
       "      <td>/</td>\n",
       "      <td>/</td>\n",
       "    </tr>\n",
       "    <tr>\n",
       "      <td>106</td>\n",
       "      <td>*</td>\n",
       "      <td>*</td>\n",
       "    </tr>\n",
       "    <tr>\n",
       "      <td>23</td>\n",
       "      <td>+</td>\n",
       "      <td>+</td>\n",
       "    </tr>\n",
       "    <tr>\n",
       "      <td>109</td>\n",
       "      <td>*</td>\n",
       "      <td>*</td>\n",
       "    </tr>\n",
       "    <tr>\n",
       "      <td>78</td>\n",
       "      <td>/</td>\n",
       "      <td>/</td>\n",
       "    </tr>\n",
       "    <tr>\n",
       "      <td>48</td>\n",
       "      <td>-</td>\n",
       "      <td>-</td>\n",
       "    </tr>\n",
       "    <tr>\n",
       "      <td>64</td>\n",
       "      <td>/</td>\n",
       "      <td>/</td>\n",
       "    </tr>\n",
       "    <tr>\n",
       "      <td>21</td>\n",
       "      <td>+</td>\n",
       "      <td>+</td>\n",
       "    </tr>\n",
       "    <tr>\n",
       "      <td>29</td>\n",
       "      <td>+</td>\n",
       "      <td>+</td>\n",
       "    </tr>\n",
       "    <tr>\n",
       "      <td>95</td>\n",
       "      <td>*</td>\n",
       "      <td>*</td>\n",
       "    </tr>\n",
       "  </tbody>\n",
       "</table>\n",
       "</div>"
      ],
      "text/plain": [
       "    target preds\n",
       "55       -     -\n",
       "98       *     *\n",
       "8        +     +\n",
       "76       /     /\n",
       "62       /     /\n",
       "58       -     /\n",
       "7        +     +\n",
       "89       /     /\n",
       "118      *     *\n",
       "114      *     *\n",
       "30       -     -\n",
       "37       -     -\n",
       "2        +     +\n",
       "32       -     -\n",
       "69       /     /\n",
       "106      *     *\n",
       "23       +     +\n",
       "109      *     *\n",
       "78       /     /\n",
       "48       -     -\n",
       "64       /     /\n",
       "21       +     +\n",
       "29       +     +\n",
       "95       *     *"
      ]
     },
     "execution_count": 19,
     "metadata": {},
     "output_type": "execute_result"
    }
   ],
   "source": [
    "test_y"
   ]
  },
  {
   "cell_type": "code",
   "execution_count": null,
   "metadata": {},
   "outputs": [],
   "source": [
    "filename = 'digit_recog_model.h5'\n",
    "model.save(filename)"
   ]
  }
 ],
 "metadata": {
  "kernelspec": {
   "display_name": "Python 3",
   "language": "python",
   "name": "python3"
  },
  "language_info": {
   "codemirror_mode": {
    "name": "ipython",
    "version": 3
   },
   "file_extension": ".py",
   "mimetype": "text/x-python",
   "name": "python",
   "nbconvert_exporter": "python",
   "pygments_lexer": "ipython3",
   "version": "3.7.4"
  }
 },
 "nbformat": 4,
 "nbformat_minor": 2
}
