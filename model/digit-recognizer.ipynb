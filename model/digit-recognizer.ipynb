{
 "cells": [
  {
   "cell_type": "markdown",
   "metadata": {},
   "source": [
    "This is a 5 layers Sequential Convolutional Neural Network for digits recognition trained on MNIST dataset. It was built with keras API (Tensorflow backend) which is the recommended library for tensorflow. Firstly, data preparation (handwritten digits images) then i will focus on the CNN modeling and evaluation.\n",
    "\n",
    "I achieved 99.671% of accuracy with this CNN trained in 2h30 on a GPU. \n",
    "Data for this project can be found [here]('https://www.kaggle.com/c/digit-recognizer/data') on kaggle"
   ]
  },
  {
   "cell_type": "code",
   "execution_count": 1,
   "metadata": {
    "_cell_guid": "b1076dfc-b9ad-4769-8c92-a6c4dae69d19",
    "_uuid": "8f2839f25d086af736a60e9eeb907d3b93b6e0e5"
   },
   "outputs": [
    {
     "name": "stderr",
     "output_type": "stream",
     "text": [
      "Using TensorFlow backend.\n"
     ]
    }
   ],
   "source": [
    "import numpy as np\n",
    "import pandas as pd\n",
    "import matplotlib.pyplot as plt\n",
    "import matplotlib.image as mpimg\n",
    "import seaborn as sns\n",
    "%matplotlib inline\n",
    "\n",
    "import os, random, gc\n",
    "import pickle\n",
    "from sklearn.model_selection import train_test_split\n",
    "from sklearn.metrics import confusion_matrix\n",
    "import itertools\n",
    "\n",
    "import tensorflow as tf\n",
    "from keras.utils.np_utils import to_categorical # convert to one-hot-encoding\n",
    "from keras.models import Sequential\n",
    "from keras.layers import Dense, Dropout, Flatten, Conv2D, MaxPool2D\n",
    "from keras.optimizers import Adam\n",
    "from keras.preprocessing.image import ImageDataGenerator\n",
    "from keras.callbacks import ReduceLROnPlateau\n",
    "from keras.models import load_model\n",
    "\n",
    "sns.set(style='white', context='notebook', palette='deep')"
   ]
  },
  {
   "cell_type": "code",
   "execution_count": 2,
   "metadata": {},
   "outputs": [],
   "source": [
    "def seed_everything(seed=0):\n",
    "    # To make every process deterministic, thereby, ensure that the experiment is reproducible\n",
    "    random.seed(seed)\n",
    "    os.environ['PYTHONHASHSEED'] = str(seed)\n",
    "    np.random.seed(seed)\n",
    "    \n",
    "seed_everything(2020)\n",
    "\n",
    "# set to true during development, false during actual training\n",
    "DEV_RUN = False"
   ]
  },
  {
   "cell_type": "code",
   "execution_count": 3,
   "metadata": {},
   "outputs": [
    {
     "data": {
      "text/plain": [
       "1    4684\n",
       "7    4401\n",
       "3    4351\n",
       "9    4188\n",
       "2    4177\n",
       "6    4137\n",
       "0    4132\n",
       "4    4072\n",
       "8    4063\n",
       "5    3795\n",
       "Name: label, dtype: int64"
      ]
     },
     "execution_count": 3,
     "metadata": {},
     "output_type": "execute_result"
    },
    {
     "data": {
      "image/png": "[encoded data removed]",
      "text/plain": [
       "<Figure size 432x288 with 1 Axes>"
      ]
     },
     "metadata": {},
     "output_type": "display_data"
    }
   ],
   "source": [
    "# Load the data\n",
    "\n",
    "DIR = \"/kaggle/input/digit-recognizer/\"\n",
    "train = pd.read_csv(DIR + \"train.csv\")\n",
    "# test = pd.read_csv(DIR + \"test.csv\")\n",
    "\n",
    "train_y = train[\"label\"]\n",
    "train_x = train.drop(labels=[\"label\"], axis=1)\n",
    "del train\n",
    "gc.collect()\n",
    "\n",
    "g = sns.countplot(train_y)\n",
    "train_y.value_counts()"
   ]
  },
  {
   "cell_type": "code",
   "execution_count": 4,
   "metadata": {},
   "outputs": [
    {
     "name": "stdout",
     "output_type": "stream",
     "text": [
      "Train missing:\n",
      "count       784\n",
      "unique        1\n",
      "top       False\n",
      "freq        784\n",
      "dtype: object \n",
      "\n",
      "There are no missing values in the dataset\n"
     ]
    }
   ],
   "source": [
    "print(\"Train missing:\")\n",
    "print(train_x.isnull().any().describe(), \"\\n\")\n",
    "print(\"There are no missing values in the dataset\")"
   ]
  },
  {
   "cell_type": "code",
   "execution_count": 5,
   "metadata": {},
   "outputs": [],
   "source": [
    "# Data Normalization\n",
    "train_x = train_x / 255.0\n",
    "\n",
    "# Reshape the data\n",
    "train_x = train_x.values.reshape(-1, 28, 28, 1)"
   ]
  },
  {
   "cell_type": "code",
   "execution_count": 6,
   "metadata": {},
   "outputs": [
    {
     "data": {
      "text/plain": [
       "array([[0., 1., 0., ..., 0., 0., 0.],\n",
       "       [1., 0., 0., ..., 0., 0., 0.],\n",
       "       [0., 1., 0., ..., 0., 0., 0.],\n",
       "       ...,\n",
       "       [0., 0., 0., ..., 1., 0., 0.],\n",
       "       [0., 0., 0., ..., 0., 0., 0.],\n",
       "       [0., 0., 0., ..., 0., 0., 1.]], dtype=float32)"
      ]
     },
     "execution_count": 6,
     "metadata": {},
     "output_type": "execute_result"
    }
   ],
   "source": [
    "# one hot encode the labels\n",
    "train_y = to_categorical(train_y, num_classes=10)\n",
    "train_y"
   ]
  },
  {
   "cell_type": "code",
   "execution_count": 7,
   "metadata": {},
   "outputs": [],
   "source": [
    "# split into train and validation\n",
    "train_x, val_x, train_y, val_y = train_test_split(train_x, train_y, test_size=0.1, random_state=2020)"
   ]
  },
  {
   "cell_type": "markdown",
   "metadata": {},
   "source": [
    "The split done above is valid because of size of the dataset (42_000), so a test size of 4200 images is good, and also the fact that the dataset is balanced, so a random split would work fine. If it wasn't balanced, we would have had to set `stratify=True` option in the `train_test_split` function"
   ]
  },
  {
   "cell_type": "code",
   "execution_count": 8,
   "metadata": {},
   "outputs": [
    {
     "data": {
      "image/png": "[encoded data removed]",
      "text/plain": [
       "<Figure size 432x288 with 1 Axes>"
      ]
     },
     "metadata": {},
     "output_type": "display_data"
    }
   ],
   "source": [
    "# view one image\n",
    "g = plt.imshow(train_x[0][:,:,0])"
   ]
  },
  {
   "cell_type": "markdown",
   "metadata": {},
   "source": [
    "### CNN"
   ]
  },
  {
   "cell_type": "code",
   "execution_count": 9,
   "metadata": {},
   "outputs": [],
   "source": [
    "if DEV_RUN:\n",
    "    filter1 = 8\n",
    "    filter2 = 8\n",
    "    layer1 = 64\n",
    "    epochs = 3\n",
    "    batch_size = 200\n",
    "else:\n",
    "    filter1 = 32\n",
    "    filter2 = 64\n",
    "    layer1 = 256\n",
    "    epochs = 40\n",
    "    batch_size = 200"
   ]
  },
  {
   "cell_type": "code",
   "execution_count": 10,
   "metadata": {},
   "outputs": [],
   "source": [
    "model = Sequential()\n",
    "model.add(Conv2D(filters=filter1, kernel_size=(5,5), padding='Same', activation='relu', input_shape=(28,28,1)))\n",
    "model.add(MaxPool2D(pool_size=(2,2)))\n",
    "model.add(Dropout(0.25))\n",
    "model.add(Conv2D(filters=filter2, kernel_size=(3,3), padding='Same', activation='relu', input_shape=(28,28,1)))\n",
    "model.add(MaxPool2D(pool_size=(2,2), strides=(2,2)))\n",
    "model.add(Dropout(0.25))\n",
    "model.add(Flatten())\n",
    "model.add(Dense(layer1, activation='relu'))\n",
    "model.add(Dropout(0.25))\n",
    "model.add(Dense(10, activation='softmax'))"
   ]
  },
  {
   "cell_type": "code",
   "execution_count": 11,
   "metadata": {},
   "outputs": [],
   "source": [
    "# Define the optimizer\n",
    "optimizer = Adam(lr=0.001)\n",
    "\n",
    "# Compile the model\n",
    "model.compile(optimizer=optimizer, loss='categorical_crossentropy', metrics=['accuracy'])\n",
    "\n",
    "# Set a learning rate annealer\n",
    "learning_rate_reduction = ReduceLROnPlateau(monitor='val_acc',patience=3,verbose=1,factor=0.5,min_lr=0.00001)"
   ]
  },
  {
   "cell_type": "code",
   "execution_count": 12,
   "metadata": {},
   "outputs": [],
   "source": [
    "# # train the model (no data augmentation)\n",
    "# history = model.fit(train_x, train_y, batch_size=batch_size,\n",
    "#                     epochs=epochs, validation_data=(val_x, val_y), verbose=1)"
   ]
  },
  {
   "cell_type": "code",
   "execution_count": 13,
   "metadata": {},
   "outputs": [],
   "source": [
    "# Apply data augmentation to prevent overfitting\n",
    "datagen = ImageDataGenerator(featurewise_center=False, # set input mean to 0 over the dataset\n",
    "                             samplewise_center=False, # set each sample mean to 0\n",
    "                             featurewise_std_normalization=False, # divide inputs by std of the dataset\n",
    "                             samplewise_std_normalization=False, # divide each input by its std\n",
    "                             zca_whitening=False, # apply ZCA whitening\n",
    "                             rotation_range=10, # randomly rotate images in the range\n",
    "                             zoom_range=0.1, # randomly zoom image\n",
    "                             width_shift_range=0.1, # randomly shift images horizontally\n",
    "                             height_shift_range=0.1, # randomly shift images vertically\n",
    "                             horizontal_flip=False, # randomly flip images\n",
    "                             vertical_flip=False) # randomly flip images\n",
    "\n",
    "datagen.fit(train_x)"
   ]
  },
  {
   "cell_type": "code",
   "execution_count": 14,
   "metadata": {},
   "outputs": [
    {
     "name": "stdout",
     "output_type": "stream",
     "text": [
      "Epoch 1/40\n",
      "189/189 [==============================] - 36s 189ms/step - loss: 0.5909 - accuracy: 0.8062 - val_loss: 0.0836 - val_accuracy: 0.9733\n",
      "Epoch 2/40\n",
      "  1/189 [..............................] - ETA: 31s - loss: 0.2172 - accuracy: 0.9100"
     ]
    },
    {
     "name": "stderr",
     "output_type": "stream",
     "text": [
      "/opt/conda/lib/python3.6/site-packages/keras/callbacks/callbacks.py:1042: RuntimeWarning: Reduce LR on plateau conditioned on metric `val_acc` which is not available. Available metrics are: val_loss,val_accuracy,loss,accuracy,lr\n",
      "  (self.monitor, ','.join(list(logs.keys()))), RuntimeWarning\n"
     ]
    },
    {
     "name": "stdout",
     "output_type": "stream",
     "text": [
      "189/189 [==============================] - 35s 184ms/step - loss: 0.1760 - accuracy: 0.9453 - val_loss: 0.0652 - val_accuracy: 0.9783\n",
      "Epoch 3/40\n",
      "189/189 [==============================] - 34s 181ms/step - loss: 0.1287 - accuracy: 0.9601 - val_loss: 0.0521 - val_accuracy: 0.9848\n",
      "Epoch 4/40\n",
      "189/189 [==============================] - 35s 183ms/step - loss: 0.1139 - accuracy: 0.9643 - val_loss: 0.0487 - val_accuracy: 0.9855\n",
      "Epoch 5/40\n",
      "189/189 [==============================] - 34s 180ms/step - loss: 0.0916 - accuracy: 0.9701 - val_loss: 0.0466 - val_accuracy: 0.9867\n",
      "Epoch 6/40\n",
      "189/189 [==============================] - 34s 180ms/step - loss: 0.0841 - accuracy: 0.9730 - val_loss: 0.0390 - val_accuracy: 0.9881\n",
      "Epoch 7/40\n",
      "189/189 [==============================] - 35s 183ms/step - loss: 0.0760 - accuracy: 0.9767 - val_loss: 0.0361 - val_accuracy: 0.9893\n",
      "Epoch 8/40\n",
      "189/189 [==============================] - 36s 193ms/step - loss: 0.0718 - accuracy: 0.9774 - val_loss: 0.0440 - val_accuracy: 0.9869\n",
      "Epoch 9/40\n",
      "189/189 [==============================] - 47s 249ms/step - loss: 0.0666 - accuracy: 0.9787 - val_loss: 0.0365 - val_accuracy: 0.9910\n",
      "Epoch 10/40\n",
      "189/189 [==============================] - 35s 185ms/step - loss: 0.0621 - accuracy: 0.9809 - val_loss: 0.0339 - val_accuracy: 0.9900\n",
      "Epoch 11/40\n",
      "189/189 [==============================] - 34s 180ms/step - loss: 0.0589 - accuracy: 0.9810 - val_loss: 0.0366 - val_accuracy: 0.9886\n",
      "Epoch 12/40\n",
      "189/189 [==============================] - 35s 184ms/step - loss: 0.0563 - accuracy: 0.9820 - val_loss: 0.0318 - val_accuracy: 0.9921\n",
      "Epoch 13/40\n",
      "189/189 [==============================] - 34s 179ms/step - loss: 0.0530 - accuracy: 0.9835 - val_loss: 0.0298 - val_accuracy: 0.9921\n",
      "Epoch 14/40\n",
      "189/189 [==============================] - 34s 181ms/step - loss: 0.0524 - accuracy: 0.9834 - val_loss: 0.0325 - val_accuracy: 0.9910\n",
      "Epoch 15/40\n",
      "189/189 [==============================] - 34s 180ms/step - loss: 0.0520 - accuracy: 0.9836 - val_loss: 0.0302 - val_accuracy: 0.9919\n",
      "Epoch 16/40\n",
      "189/189 [==============================] - 34s 177ms/step - loss: 0.0480 - accuracy: 0.9850 - val_loss: 0.0303 - val_accuracy: 0.9929\n",
      "Epoch 17/40\n",
      "189/189 [==============================] - 34s 181ms/step - loss: 0.0481 - accuracy: 0.9849 - val_loss: 0.0318 - val_accuracy: 0.9926\n",
      "Epoch 18/40\n",
      "189/189 [==============================] - 34s 180ms/step - loss: 0.0476 - accuracy: 0.9852 - val_loss: 0.0301 - val_accuracy: 0.9919\n",
      "Epoch 19/40\n",
      "189/189 [==============================] - 35s 184ms/step - loss: 0.0441 - accuracy: 0.9861 - val_loss: 0.0287 - val_accuracy: 0.9917\n",
      "Epoch 20/40\n",
      "189/189 [==============================] - 34s 179ms/step - loss: 0.0396 - accuracy: 0.9878 - val_loss: 0.0276 - val_accuracy: 0.9929\n",
      "Epoch 21/40\n",
      "189/189 [==============================] - 34s 182ms/step - loss: 0.0403 - accuracy: 0.9872 - val_loss: 0.0321 - val_accuracy: 0.9907\n",
      "Epoch 22/40\n",
      "189/189 [==============================] - 34s 182ms/step - loss: 0.0393 - accuracy: 0.9873 - val_loss: 0.0382 - val_accuracy: 0.9910\n",
      "Epoch 23/40\n",
      "189/189 [==============================] - 34s 180ms/step - loss: 0.0412 - accuracy: 0.9871 - val_loss: 0.0250 - val_accuracy: 0.9926\n",
      "Epoch 24/40\n",
      "189/189 [==============================] - 36s 188ms/step - loss: 0.0389 - accuracy: 0.9874 - val_loss: 0.0289 - val_accuracy: 0.9931\n",
      "Epoch 25/40\n",
      "189/189 [==============================] - 34s 180ms/step - loss: 0.0390 - accuracy: 0.9875 - val_loss: 0.0272 - val_accuracy: 0.9926\n",
      "Epoch 26/40\n",
      "189/189 [==============================] - 35s 183ms/step - loss: 0.0381 - accuracy: 0.9877 - val_loss: 0.0277 - val_accuracy: 0.9929\n",
      "Epoch 27/40\n",
      "189/189 [==============================] - 34s 179ms/step - loss: 0.0365 - accuracy: 0.9881 - val_loss: 0.0275 - val_accuracy: 0.9931\n",
      "Epoch 28/40\n",
      "189/189 [==============================] - 35s 184ms/step - loss: 0.0342 - accuracy: 0.9893 - val_loss: 0.0329 - val_accuracy: 0.9924\n",
      "Epoch 29/40\n",
      "189/189 [==============================] - 34s 182ms/step - loss: 0.0368 - accuracy: 0.9886 - val_loss: 0.0292 - val_accuracy: 0.9924\n",
      "Epoch 30/40\n",
      "189/189 [==============================] - 34s 180ms/step - loss: 0.0379 - accuracy: 0.9881 - val_loss: 0.0301 - val_accuracy: 0.9924\n",
      "Epoch 31/40\n",
      "189/189 [==============================] - 45s 238ms/step - loss: 0.0318 - accuracy: 0.9898 - val_loss: 0.0292 - val_accuracy: 0.9912\n",
      "Epoch 32/40\n",
      "189/189 [==============================] - 34s 180ms/step - loss: 0.0331 - accuracy: 0.9892 - val_loss: 0.0276 - val_accuracy: 0.9924\n",
      "Epoch 33/40\n",
      "189/189 [==============================] - 34s 182ms/step - loss: 0.0327 - accuracy: 0.9899 - val_loss: 0.0287 - val_accuracy: 0.9931\n",
      "Epoch 34/40\n",
      "189/189 [==============================] - 34s 181ms/step - loss: 0.0340 - accuracy: 0.9892 - val_loss: 0.0288 - val_accuracy: 0.9933\n",
      "Epoch 35/40\n",
      "189/189 [==============================] - 34s 180ms/step - loss: 0.0308 - accuracy: 0.9898 - val_loss: 0.0274 - val_accuracy: 0.9926\n",
      "Epoch 36/40\n",
      "189/189 [==============================] - 34s 182ms/step - loss: 0.0336 - accuracy: 0.9896 - val_loss: 0.0328 - val_accuracy: 0.9919\n",
      "Epoch 37/40\n",
      "189/189 [==============================] - 34s 180ms/step - loss: 0.0311 - accuracy: 0.9902 - val_loss: 0.0265 - val_accuracy: 0.9931\n",
      "Epoch 38/40\n",
      "189/189 [==============================] - 35s 183ms/step - loss: 0.0298 - accuracy: 0.9901 - val_loss: 0.0306 - val_accuracy: 0.9924\n",
      "Epoch 39/40\n",
      "189/189 [==============================] - 34s 178ms/step - loss: 0.0303 - accuracy: 0.9903 - val_loss: 0.0314 - val_accuracy: 0.9924\n",
      "Epoch 40/40\n",
      "189/189 [==============================] - 35s 183ms/step - loss: 0.0303 - accuracy: 0.9907 - val_loss: 0.0341 - val_accuracy: 0.9921\n"
     ]
    }
   ],
   "source": [
    "# train the model\n",
    "history = model.fit_generator(datagen.flow(train_x, train_y, batch_size=batch_size),\n",
    "                              epochs=epochs,\n",
    "                              validation_data=(val_x,val_y),\n",
    "                              verbose=1,\n",
    "                              steps_per_epoch=train_x.shape[0] // batch_size,\n",
    "                              callbacks=[learning_rate_reduction])"
   ]
  },
  {
   "cell_type": "code",
   "execution_count": 15,
   "metadata": {},
   "outputs": [
    {
     "data": {
      "text/plain": [
       "<matplotlib.legend.Legend at 0x7f2a287e51d0>"
      ]
     },
     "execution_count": 15,
     "metadata": {},
     "output_type": "execute_result"
    },
    {
     "data": {
      "image/png": "[encoded data removed]",
      "text/plain": [
       "<Figure size 432x288 with 1 Axes>"
      ]
     },
     "metadata": {},
     "output_type": "display_data"
    }
   ],
   "source": [
    "# plot the accuracy curves for training and validation\n",
    "plt.plot(history.history['accuracy'])\n",
    "plt.plot(history.history['val_accuracy'])\n",
    "plt.title('model accuracy')\n",
    "plt.ylabel('accuracy')\n",
    "plt.xlabel('epoch')\n",
    "plt.legend(['train', 'test'], loc='upper left')"
   ]
  },
  {
   "cell_type": "code",
   "execution_count": 16,
   "metadata": {},
   "outputs": [
    {
     "data": {
      "text/plain": [
       "<matplotlib.legend.Legend at 0x7f2a28761668>"
      ]
     },
     "execution_count": 16,
     "metadata": {},
     "output_type": "execute_result"
    },
    {
     "data": {
      "image/png": "[encoded data removed]",
      "text/plain": [
       "<Figure size 432x288 with 1 Axes>"
      ]
     },
     "metadata": {},
     "output_type": "display_data"
    }
   ],
   "source": [
    "# plot the loss curves for training and validation\n",
    "plt.plot(history.history['loss'])\n",
    "plt.plot(history.history['val_loss'])\n",
    "plt.title('model loss')\n",
    "plt.ylabel('loss')\n",
    "plt.xlabel('epoch')\n",
    "plt.legend(['train', 'test'], loc='upper left')"
   ]
  },
  {
   "cell_type": "code",
   "execution_count": 17,
   "metadata": {},
   "outputs": [],
   "source": [
    "# Function to plot confusion matrix\n",
    "def plot_confusion_matrix(cm, classes, normalize=False, title='Confusion Matrix', cmap=plt.cm.Blues):\n",
    "    \"\"\"\n",
    "    This function prints and plots the confusion matrix.\n",
    "    Normalization can be applied by setting `normalize=True`\n",
    "    \"\"\"\n",
    "    plt.imshow(cm, interpolation='nearest', cmap=cmap)\n",
    "    plt.title(title)\n",
    "    plt.colorbar()\n",
    "    tick_marks = np.arange(len(classes))\n",
    "    plt.xticks(tick_marks, classes, rotation=45)\n",
    "    plt.yticks(tick_marks, classes)\n",
    "    \n",
    "    if normalize:\n",
    "        cm = cm.astype('float') / cm.sum(axis=1)[:, np.newaxis]\n",
    "    thresh = cm.max() / 2\n",
    "    for i, j in itertools.product(range(cm.shape[0]), range(cm.shape[1])):\n",
    "        plt.text(j, i, cm[i, j],\n",
    "                 horizontalalignment=\"center\",\n",
    "                 color=\"white\" if cm[i, j] > thresh else \"black\")\n",
    "\n",
    "    plt.tight_layout()\n",
    "    plt.ylabel('True label')\n",
    "    plt.xlabel('Predicted label')"
   ]
  },
  {
   "cell_type": "code",
   "execution_count": 18,
   "metadata": {},
   "outputs": [],
   "source": [
    "# predict the values from the validation dataset\n",
    "val_pred = model.predict(val_x)\n",
    "val_pred_classes = np.argmax(val_pred, axis=1)\n",
    "val_true = np.argmax(val_y, axis=1)"
   ]
  },
  {
   "cell_type": "code",
   "execution_count": 19,
   "metadata": {},
   "outputs": [
    {
     "data": {
      "image/png": "[encoded data removed]",
      "text/plain": [
       "<Figure size 432x288 with 2 Axes>"
      ]
     },
     "metadata": {},
     "output_type": "display_data"
    }
   ],
   "source": [
    "# compute the confusion matrix\n",
    "confusion_mtx = confusion_matrix(val_true, val_pred_classes)\n",
    "plot_confusion_matrix(confusion_mtx, classes=range(10))"
   ]
  },
  {
   "cell_type": "code",
   "execution_count": 20,
   "metadata": {},
   "outputs": [
    {
     "data": {
      "image/png": "[encoded data removed]",
      "text/plain": [
       "<Figure size 432x288 with 6 Axes>"
      ]
     },
     "metadata": {},
     "output_type": "display_data"
    }
   ],
   "source": [
    "# Display some error results \n",
    "\n",
    "# Errors are difference between predicted labels and true labels\n",
    "errors = (val_pred_classes - val_true != 0)\n",
    "\n",
    "Y_pred_classes_errors = val_pred_classes[errors]\n",
    "Y_pred_errors = val_pred[errors]\n",
    "Y_true_errors = val_true[errors]\n",
    "X_val_errors = val_x[errors]\n",
    "\n",
    "def display_errors(errors_index,img_errors,pred_errors, obs_errors):\n",
    "    \"\"\" This function shows 6 images with their predicted and real labels\"\"\"\n",
    "    n = 0\n",
    "    nrows = 2\n",
    "    ncols = 3\n",
    "    fig, ax = plt.subplots(nrows,ncols,sharex=True,sharey=True)\n",
    "    for row in range(nrows):\n",
    "        for col in range(ncols):\n",
    "            error = errors_index[n]\n",
    "            ax[row,col].imshow((img_errors[error]).reshape((28,28)))\n",
    "            ax[row,col].set_title(\"Predicted label :{}\\nTrue label :{}\".format(pred_errors[error],obs_errors[error]))\n",
    "            n += 1\n",
    "\n",
    "# Probabilities of the wrong predicted numbers\n",
    "Y_pred_errors_prob = np.max(Y_pred_errors,axis = 1)\n",
    "\n",
    "# Predicted probabilities of the true values in the error set\n",
    "true_prob_errors = np.diagonal(np.take(Y_pred_errors, Y_true_errors, axis=1))\n",
    "\n",
    "# Difference between the probability of the predicted label and the true label\n",
    "delta_pred_true_errors = Y_pred_errors_prob - true_prob_errors\n",
    "\n",
    "# Sorted list of the delta prob errors\n",
    "sorted_dela_errors = np.argsort(delta_pred_true_errors)\n",
    "\n",
    "# Top 6 errors \n",
    "most_important_errors = sorted_dela_errors[-6:]\n",
    "\n",
    "# Show the top 6 errors\n",
    "display_errors(most_important_errors, X_val_errors, Y_pred_classes_errors, Y_true_errors)"
   ]
  },
  {
   "cell_type": "code",
   "execution_count": 21,
   "metadata": {},
   "outputs": [],
   "source": [
    "# save the model to disk\n",
    "filename = 'digit_recog_model.h5'\n",
    "model.save(filename)\n",
    "\n",
    " \n",
    "# # load the model from disk\n",
    "# loaded_model = load_model(filename)\n",
    "# result = loaded_model.score(X_test, Y_test)\n",
    "# print(result)"
   ]
  },
  {
   "cell_type": "code",
   "execution_count": null,
   "metadata": {},
   "outputs": [],
   "source": []
  }
 ],
 "metadata": {
  "kernelspec": {
   "display_name": "Python 3",
   "language": "python",
   "name": "python3"
  },
  "language_info": {
   "codemirror_mode": {
    "name": "ipython",
    "version": 3
   },
   "file_extension": ".py",
   "mimetype": "text/x-python",
   "name": "python",
   "nbconvert_exporter": "python",
   "pygments_lexer": "ipython3",
   "version": "3.6.6"
  }
 },
 "nbformat": 4,
 "nbformat_minor": 4
}
